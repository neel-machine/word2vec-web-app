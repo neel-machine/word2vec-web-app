{
  "nbformat": 4,
  "nbformat_minor": 0,
  "metadata": {
    "colab": {
      "provenance": [],
      "collapsed_sections": [],
      "include_colab_link": true
    },
    "kernelspec": {
      "name": "python3",
      "display_name": "Python 3"
    },
    "language_info": {
      "name": "python"
    }
  },
  "cells": [
    {
      "cell_type": "markdown",
      "metadata": {
        "id": "view-in-github",
        "colab_type": "text"
      },
      "source": [
        "<a href=\"https://colab.research.google.com/github/neel-machine/word2vec-web-app/blob/main/word2vec_got.ipynb\" target=\"_parent\"><img src=\"https://colab.research.google.com/assets/colab-badge.svg\" alt=\"Open In Colab\"/></a>"
      ]
    },
    {
      "cell_type": "markdown",
      "source": [
        "**Generate word embedding from text**\n",
        "\n",
        "In this notebook I have used the text from game of thrones books to create word embeddings using Word2Vec algorithm. \n",
        "\n",
        "Gensim is used to access Word2Vec model and further to save and load word embedding in flask file. The end goal is to get most similar words for a given text.\n",
        "\n",
        "Word embeddings are vectore representations of words in text that capture some context of the words. Unlike bag of words representation which result in large sparse vectors word embeddings are an improvement . \n",
        "\n",
        "Next step in this project is to plot the embeddings and observe the similar words that are placed nearer in the vector space. "
      ],
      "metadata": {
        "id": "X5u7P5UIR5qf"
      }
    },
    {
      "cell_type": "code",
      "execution_count": 1,
      "metadata": {
        "colab": {
          "base_uri": "https://localhost:8080/"
        },
        "id": "7KDKK4KZd9v3",
        "outputId": "a1c0969b-375c-4b48-9a8e-0903de53eb07"
      },
      "outputs": [
        {
          "output_type": "stream",
          "name": "stdout",
          "text": [
            "Looking in indexes: https://pypi.org/simple, https://us-python.pkg.dev/colab-wheels/public/simple/\n",
            "Requirement already satisfied: gensim in /usr/local/lib/python3.7/dist-packages (3.6.0)\n",
            "Requirement already satisfied: smart-open>=1.2.1 in /usr/local/lib/python3.7/dist-packages (from gensim) (5.2.1)\n",
            "Requirement already satisfied: six>=1.5.0 in /usr/local/lib/python3.7/dist-packages (from gensim) (1.15.0)\n",
            "Requirement already satisfied: numpy>=1.11.3 in /usr/local/lib/python3.7/dist-packages (from gensim) (1.21.6)\n",
            "Requirement already satisfied: scipy>=0.18.1 in /usr/local/lib/python3.7/dist-packages (from gensim) (1.7.3)\n"
          ]
        }
      ],
      "source": [
        "pip install gensim"
      ]
    },
    {
      "cell_type": "markdown",
      "source": [],
      "metadata": {
        "id": "rsf-qc0KRhLW"
      }
    },
    {
      "cell_type": "code",
      "source": [
        "import os,nltk\n",
        "from nltk import sent_tokenize\n",
        "from nltk.corpus import stopwords\n",
        "from gensim.utils import simple_preprocess\n",
        "nltk.download('stopwords')"
      ],
      "metadata": {
        "colab": {
          "base_uri": "https://localhost:8080/"
        },
        "id": "y7Dpp0G1eoBW",
        "outputId": "80828a2e-4e33-4bf0-a376-5b38511bd0f1"
      },
      "execution_count": 2,
      "outputs": [
        {
          "output_type": "stream",
          "name": "stderr",
          "text": [
            "[nltk_data] Downloading package stopwords to /root/nltk_data...\n",
            "[nltk_data]   Unzipping corpora/stopwords.zip.\n"
          ]
        },
        {
          "output_type": "execute_result",
          "data": {
            "text/plain": [
              "True"
            ]
          },
          "metadata": {},
          "execution_count": 2
        }
      ]
    },
    {
      "cell_type": "code",
      "source": [
        "nltk.download('punkt')"
      ],
      "metadata": {
        "colab": {
          "base_uri": "https://localhost:8080/"
        },
        "id": "EzIGzW4TgIdE",
        "outputId": "64392ed9-be56-481a-9680-1e834efba292"
      },
      "execution_count": 3,
      "outputs": [
        {
          "output_type": "stream",
          "name": "stderr",
          "text": [
            "[nltk_data] Downloading package punkt to /root/nltk_data...\n",
            "[nltk_data]   Unzipping tokenizers/punkt.zip.\n"
          ]
        },
        {
          "output_type": "execute_result",
          "data": {
            "text/plain": [
              "True"
            ]
          },
          "metadata": {},
          "execution_count": 3
        }
      ]
    },
    {
      "cell_type": "markdown",
      "source": [
        "**Generate words from text**\n",
        "\n",
        "Here we traverse through the 5 copies of the text and process them into words that can be passed into word2vec model. Downloaded text from kaggle\n",
        "\n",
        "https://www.kaggle.com/datasets/khulasasndh/game-of-thrones-books?resource=download"
      ],
      "metadata": {
        "id": "VjYXE_YPTmCh"
      }
    },
    {
      "cell_type": "code",
      "source": [
        "all_words = []\n",
        "stops = stopwords.words(\"english\")\n",
        "for filename in os.listdir('Data'):\n",
        "  f = open(os.path.join('Data',filename),encoding='ISO-8859-1')\n",
        "  text = f.read()\n",
        "  raw_sent = sent_tokenize(text)\n",
        "\n",
        "  for sent in raw_sent:\n",
        "    all_words.append(simple_preprocess(sent))"
      ],
      "metadata": {
        "id": "pmff0uUse50T"
      },
      "execution_count": 24,
      "outputs": []
    },
    {
      "cell_type": "code",
      "source": [
        "from gensim.models import Word2Vec"
      ],
      "metadata": {
        "id": "lIrG0-TUgkHh"
      },
      "execution_count": 6,
      "outputs": []
    },
    {
      "cell_type": "code",
      "source": [
        "len(all_words)"
      ],
      "metadata": {
        "id": "eEWfWlLLWKUR",
        "colab": {
          "base_uri": "https://localhost:8080/"
        },
        "outputId": "30a65fa9-9b55-4add-a684-2bf13706ab52"
      },
      "execution_count": 20,
      "outputs": [
        {
          "output_type": "execute_result",
          "data": {
            "text/plain": [
              "141218"
            ]
          },
          "metadata": {},
          "execution_count": 20
        }
      ]
    },
    {
      "cell_type": "markdown",
      "source": [
        "**Parameters for word2vec model**\n",
        "\n",
        "**size**: (default 100) The number of dimensions of the embedding, e.g. the length of the dense vector to represent each token (word).\n",
        "\n",
        "**window**: (default 5) The maximum distance between a target word and words around the target word.\n",
        "\n",
        "**min_count**: (default 5) The minimum count of words to consider when training the model; words with an occurrence less than this count will be ignored.\n",
        "\n",
        "**workers**: (default 3) The number of threads to use while training.\n",
        "\n",
        "**sg**: (default 0 or CBOW) The training algorithm, either CBOW (0) or skip gram (1)."
      ],
      "metadata": {
        "id": "YuVPaTRTWDvY"
      }
    },
    {
      "cell_type": "code",
      "source": [
        "model_got = Word2Vec(all_words,min_count=5,window=10)"
      ],
      "metadata": {
        "id": "r1o-nZ05grzG"
      },
      "execution_count": 8,
      "outputs": []
    },
    {
      "cell_type": "markdown",
      "source": [
        "To get the embedding vector for a token \n",
        " "
      ],
      "metadata": {
        "id": "REzuVV4VWypz"
      }
    },
    {
      "cell_type": "code",
      "source": [
        "model_got['daenerys']"
      ],
      "metadata": {
        "colab": {
          "base_uri": "https://localhost:8080/"
        },
        "id": "zr5FnD4dh2XG",
        "outputId": "80f62ce4-3793-4e8a-b9eb-f07b1c0ec330"
      },
      "execution_count": 9,
      "outputs": [
        {
          "output_type": "stream",
          "name": "stderr",
          "text": [
            "/usr/local/lib/python3.7/dist-packages/ipykernel_launcher.py:1: DeprecationWarning: Call to deprecated `__getitem__` (Method will be removed in 4.0.0, use self.wv.__getitem__() instead).\n",
            "  \"\"\"Entry point for launching an IPython kernel.\n"
          ]
        },
        {
          "output_type": "execute_result",
          "data": {
            "text/plain": [
              "array([ 0.41205773,  0.36351568, -0.36549494,  0.4692639 , -0.19840415,\n",
              "       -0.29573175, -0.09776452, -0.3020742 ,  0.13365622,  0.6711758 ,\n",
              "       -0.21374264,  0.6004538 ,  0.6686975 ,  0.5770105 , -0.15027402,\n",
              "       -0.21060862, -0.8247762 ,  0.7339471 , -1.0321428 , -0.12568296,\n",
              "       -0.49023068,  0.7809365 , -0.27728507,  0.4797157 , -1.1429172 ,\n",
              "        0.6559301 , -0.2750614 ,  0.04560561,  0.40810505,  0.3961689 ,\n",
              "       -0.01398252,  0.38282403, -1.1596534 ,  0.72274834,  0.26637334,\n",
              "        0.7724299 , -0.5918138 , -1.0853329 , -1.0923325 ,  0.13185713,\n",
              "       -0.613094  ,  0.01908546, -0.00952059, -0.5123256 , -0.1341861 ,\n",
              "        0.16881827, -0.22740889, -0.8146927 , -0.75188196, -0.1850686 ,\n",
              "        0.24856998, -0.6667944 ,  1.0438516 , -0.39237887,  0.47431707,\n",
              "       -0.75362086, -0.38587895, -1.6494145 , -0.12947455, -0.31306708,\n",
              "        0.04297983, -1.0077109 ,  0.6319764 ,  0.07528054, -0.4314498 ,\n",
              "        0.41217908, -1.0065259 , -0.33296904, -0.54653686,  0.92763746,\n",
              "        0.26361352,  0.08051603,  0.2408692 , -0.8786966 ,  0.8353326 ,\n",
              "       -0.5647734 , -0.62278706,  0.07564912,  0.30387223, -0.17525944,\n",
              "       -0.20781873, -1.0137625 , -0.6436974 ,  0.59505624, -0.14874375,\n",
              "        0.53624725, -1.0822452 , -0.71803534, -0.2617164 ,  0.7987238 ,\n",
              "       -0.08399243, -1.2599084 , -0.36990464,  0.45440766, -1.6836224 ,\n",
              "       -0.4150091 ,  0.683672  , -1.3338728 , -0.30417624,  0.30003256],\n",
              "      dtype=float32)"
            ]
          },
          "metadata": {},
          "execution_count": 9
        }
      ]
    },
    {
      "cell_type": "code",
      "source": [
        "model_got.most_similar('daenerys')"
      ],
      "metadata": {
        "colab": {
          "base_uri": "https://localhost:8080/"
        },
        "id": "6_gW4ofliNrf",
        "outputId": "4f22f8bf-fad7-456e-f263-e2c87006ccc8"
      },
      "execution_count": 10,
      "outputs": [
        {
          "output_type": "stream",
          "name": "stderr",
          "text": [
            "/usr/local/lib/python3.7/dist-packages/ipykernel_launcher.py:1: DeprecationWarning: Call to deprecated `most_similar` (Method will be removed in 4.0.0, use self.wv.most_similar() instead).\n",
            "  \"\"\"Entry point for launching an IPython kernel.\n"
          ]
        },
        {
          "output_type": "execute_result",
          "data": {
            "text/plain": [
              "[('stormborn', 0.7859627604484558),\n",
              " ('targaryen', 0.776050865650177),\n",
              " ('queen', 0.7566270232200623),\n",
              " ('princess', 0.7531164288520813),\n",
              " ('myrcella', 0.6995861530303955),\n",
              " ('unburnt', 0.6754414439201355),\n",
              " ('elia', 0.6751624345779419),\n",
              " ('prince', 0.6687909960746765),\n",
              " ('margaery', 0.6658371090888977),\n",
              " ('dorne', 0.6640033721923828)]"
            ]
          },
          "metadata": {},
          "execution_count": 10
        }
      ]
    },
    {
      "cell_type": "code",
      "source": [
        "#model_got.wv.save_word2vec_format('model_got.bin')"
      ],
      "metadata": {
        "id": "TkaKSgMWilph"
      },
      "execution_count": null,
      "outputs": []
    },
    {
      "cell_type": "markdown",
      "source": [
        "To save the model in binary format. I exported this binary file to flask app in the later steps."
      ],
      "metadata": {
        "id": "lfV5eEYvWt4T"
      }
    },
    {
      "cell_type": "code",
      "source": [
        "model_got.save('model_embeddings.bin')"
      ],
      "metadata": {
        "id": "hKSKpYecsNA6"
      },
      "execution_count": null,
      "outputs": []
    },
    {
      "cell_type": "markdown",
      "source": [],
      "metadata": {
        "id": "1uUF2ysfRgDa"
      }
    },
    {
      "cell_type": "code",
      "source": [
        "model_got['north']"
      ],
      "metadata": {
        "colab": {
          "base_uri": "https://localhost:8080/"
        },
        "id": "9CEH9o1mogWR",
        "outputId": "12db8deb-e6fa-4c89-c409-dad849aef56f"
      },
      "execution_count": 26,
      "outputs": [
        {
          "output_type": "stream",
          "name": "stderr",
          "text": [
            "/usr/local/lib/python3.7/dist-packages/ipykernel_launcher.py:1: DeprecationWarning: Call to deprecated `__getitem__` (Method will be removed in 4.0.0, use self.wv.__getitem__() instead).\n",
            "  \"\"\"Entry point for launching an IPython kernel.\n"
          ]
        },
        {
          "output_type": "execute_result",
          "data": {
            "text/plain": [
              "array([ 1.7432562 , -1.0311751 , -0.44081393, -0.99900115,  0.37242123,\n",
              "        0.49914697,  0.61200774, -0.7319565 ,  0.90851283, -1.5836208 ,\n",
              "        0.8876629 , -0.11778924,  0.4681949 ,  1.7151335 ,  0.30882123,\n",
              "        0.13963394, -1.5002577 , -0.7055947 ,  1.3592736 ,  0.7056132 ,\n",
              "        1.4355448 ,  0.60071826,  0.03169464,  0.8611196 , -1.11589   ,\n",
              "        0.90870446, -0.09896249,  0.06669869, -0.08169817,  0.4476052 ,\n",
              "       -0.1434449 , -0.24392268, -0.2400907 ,  0.6953778 , -0.03896047,\n",
              "       -0.403649  , -0.11086788, -2.1329954 , -0.51696277, -0.7513526 ,\n",
              "        1.3689941 , -2.469671  ,  0.7354707 , -0.75907546,  0.79613936,\n",
              "        0.5209626 ,  0.9525696 , -1.6461766 , -1.1657357 ,  0.09932472,\n",
              "        0.4767385 ,  0.5742578 ,  0.0076812 ,  0.46290424,  0.6571185 ,\n",
              "        1.0703357 , -0.8401203 , -1.6271538 ,  0.84374523,  1.36303   ,\n",
              "        1.0234149 , -1.2144926 , -0.9113663 ,  0.20272729,  0.135575  ,\n",
              "       -1.8532668 , -1.2071154 , -0.15845372, -2.1513004 ,  2.0237978 ,\n",
              "        0.47391927, -1.2544113 ,  0.67862767,  0.19241457,  0.54355687,\n",
              "       -0.742694  ,  1.0974494 , -0.27160162,  1.2798756 , -0.4476311 ,\n",
              "        0.43511143,  0.8563434 , -2.166071  , -0.71711683, -1.2728343 ,\n",
              "        0.61668223, -0.21485026, -0.5017595 , -1.5944259 , -0.5248479 ,\n",
              "        1.5952928 ,  0.9415149 ,  0.27048728,  0.30020002,  0.16131777,\n",
              "       -0.9762799 ,  0.5096187 ,  0.11441126,  1.776429  ,  0.1880166 ],\n",
              "      dtype=float32)"
            ]
          },
          "metadata": {},
          "execution_count": 26
        }
      ]
    },
    {
      "cell_type": "code",
      "source": [
        "model_got.wv.most_similar(positive=['king','westeros','queen'],negative=['stark','north',''],topn=5)"
      ],
      "metadata": {
        "colab": {
          "base_uri": "https://localhost:8080/"
        },
        "id": "55EvIOroohSx",
        "outputId": "45d509f2-dee0-484b-a294-04df0a1d56b5"
      },
      "execution_count": 35,
      "outputs": [
        {
          "output_type": "execute_result",
          "data": {
            "text/plain": [
              "[('dragon', 0.4813942313194275),\n",
              " ('coin', 0.4678409695625305),\n",
              " ('hizdahr', 0.4463692009449005),\n",
              " ('magic', 0.43623432517051697),\n",
              " ('illyrio', 0.432955801486969)]"
            ]
          },
          "metadata": {},
          "execution_count": 35
        }
      ]
    },
    {
      "cell_type": "code",
      "source": [
        "model_got.wv.most_similar(positive=['king','westeros','queen'],negative=['stark','north','riverlands','tully'],topn=5)"
      ],
      "metadata": {
        "colab": {
          "base_uri": "https://localhost:8080/"
        },
        "id": "QGGdmfmcohPX",
        "outputId": "b28e9fdd-5f47-4a9b-cb6f-31be833a1ebf"
      },
      "execution_count": 38,
      "outputs": [
        {
          "output_type": "execute_result",
          "data": {
            "text/plain": [
              "[('dany', 0.41904550790786743),\n",
              " ('taste', 0.37074989080429077),\n",
              " ('hizdahr', 0.359939843416214),\n",
              " ('dragon', 0.3598605990409851),\n",
              " ('daario', 0.3431515693664551)]"
            ]
          },
          "metadata": {},
          "execution_count": 38
        }
      ]
    },
    {
      "cell_type": "code",
      "source": [],
      "metadata": {
        "id": "LKL2Yk27ohMJ"
      },
      "execution_count": null,
      "outputs": []
    },
    {
      "cell_type": "code",
      "source": [],
      "metadata": {
        "id": "3lloZVpOohJb"
      },
      "execution_count": null,
      "outputs": []
    },
    {
      "cell_type": "code",
      "source": [],
      "metadata": {
        "id": "R-HMxDvMohGu"
      },
      "execution_count": null,
      "outputs": []
    },
    {
      "cell_type": "code",
      "source": [],
      "metadata": {
        "id": "3wkMYaxXohEL"
      },
      "execution_count": null,
      "outputs": []
    }
  ]
}